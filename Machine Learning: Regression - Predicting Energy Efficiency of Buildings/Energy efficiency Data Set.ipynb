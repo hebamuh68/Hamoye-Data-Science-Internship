{
 "cells": [
  {
   "cell_type": "markdown",
   "id": "8d749999",
   "metadata": {},
   "source": [
    "<div class=\"alert alert-block alert-success\">\n",
    "<b>Lesson (1)</b>\n",
    "</div>"
   ]
  },
  {
   "cell_type": "code",
   "execution_count": 1,
   "id": "0c71b33c",
   "metadata": {},
   "outputs": [],
   "source": [
    "import pandas as pd\n",
    "import seaborn as sns"
   ]
  },
  {
   "cell_type": "code",
   "execution_count": 2,
   "id": "96a23689",
   "metadata": {},
   "outputs": [],
   "source": [
    "data=pd.read_excel('https://archive.ics.uci.edu/ml/machine-learning-databases/00242/ENB2012_data.xlsx')"
   ]
  },
  {
   "cell_type": "code",
   "execution_count": 3,
   "id": "99b89cb1",
   "metadata": {},
   "outputs": [],
   "source": [
    "# rename cols\n",
    "columns_names = {'X1': 'Relative_Compactness',\n",
    "                 'X2': 'Surface_Area',\n",
    "                 'X3': 'Wall_Area',\n",
    "                 'X4': 'Roof_Area',\n",
    "                 'X5': 'Overall_Height',\n",
    "                 'X6': 'Orientation',\n",
    "                 'X7': 'Glazing_Area',\n",
    "                 'X8': 'Glazing_Area_Distribution',\n",
    "                 'Y1': 'Heating_Load',\n",
    "                 'Y2': 'Cooling_Load'}\n",
    "\n",
    "data = data.rename(columns=columns_names)\n",
    "# to print the head of data\n",
    "# print(data.head(5))"
   ]
  },
  {
   "cell_type": "code",
   "execution_count": 4,
   "id": "859f4804",
   "metadata": {},
   "outputs": [
    {
     "data": {
      "text/plain": [
       "<AxesSubplot:xlabel='Relative_Compactness', ylabel='Cooling_Load'>"
      ]
     },
     "execution_count": 4,
     "metadata": {},
     "output_type": "execute_result"
    },
    {
     "data": {
      "image/png": "[encoded data removed]",
      "text/plain": [
       "<Figure size 432x288 with 1 Axes>"
      ]
     },
     "metadata": {
      "needs_background": "light"
     },
     "output_type": "display_data"
    }
   ],
   "source": [
    "# select a sample of the dataset\n",
    "#If you don't specify the random_state in your code, then every time you run(execute) \n",
    "#your code a new random value is generated and the train and test datasets would have different values each time.\n",
    "\n",
    "simple_linear_reg = data[[\"Relative_Compactness\", \"Cooling_Load\"]] \\\n",
    "    .sample(15, random_state=2)\n",
    "\n",
    "# regression plot\n",
    "sns.regplot(x=\"Relative_Compactness\", y=\"Cooling_Load\",\n",
    "                        data=simple_linear_reg)"
   ]
  },
  {
   "cell_type": "markdown",
   "id": "27842e00",
   "metadata": {},
   "source": [
    "<div class=\"alert alert-block alert-success\">\n",
    "<b>Lesson (2)</b>\n",
    "</div>"
   ]
  },
  {
   "cell_type": "markdown",
   "id": "ee973263",
   "metadata": {},
   "source": [
    "● Mean Absolute Error (MAE) "
   ]
  },
  {
   "cell_type": "code",
   "execution_count": 5,
   "id": "57b78cca",
   "metadata": {},
   "outputs": [],
   "source": [
    "#Firstly, we normalise our dataset to a common scale using the min max scaler\n",
    "from sklearn.preprocessing import MinMaxScaler\n",
    "\n",
    "scaler = MinMaxScaler()\n",
    "normalised_df = pd.DataFrame(scaler.fit_transform(data), columns=data.columns)\n",
    "\n",
    "#I dropped the ['Heating_Load', 'Cooling_Load'] as they the output\n",
    "features_df = normalised_df.drop(columns=['Heating_Load', 'Cooling_Load'])\n",
    "heating_target = normalised_df['Heating_Load']"
   ]
  },
  {
   "cell_type": "code",
   "execution_count": 19,
   "id": "d6e70cb2",
   "metadata": {},
   "outputs": [],
   "source": [
    "#Now, we split our dataset into the training and testing dataset. Recall that we\n",
    "#had earlier segmented the features and target variables.\n",
    "#https://machinelearningmastery.com/train-test-split-for-evaluating-machine-learning-algorithms/\n",
    "from sklearn.model_selection import train_test_split\n",
    "\n",
    "\n",
    "x_train, x_test, y_train, y_test = train_test_split(features_df, heating_target, \n",
    "                                                    test_size=0.3, random_state=1)"
   ]
  },
  {
   "cell_type": "code",
   "execution_count": 7,
   "id": "796aaf37",
   "metadata": {},
   "outputs": [
    {
     "data": {
      "text/plain": [
       "0.063"
      ]
     },
     "execution_count": 7,
     "metadata": {},
     "output_type": "execute_result"
    }
   ],
   "source": [
    "from sklearn.metrics import mean_absolute_error\n",
    "from sklearn.linear_model import LinearRegression\n",
    "\n",
    "\n",
    "linear_model = LinearRegression()\n",
    "\n",
    "#fit the model to the training dataset\n",
    "linear_model.fit(x_train, y_train)\n",
    "\n",
    "#obtain predictions\n",
    "predicted_values = linear_model.predict(x_test)\n",
    "\n",
    "#MAE\n",
    "mae = mean_absolute_error(y_test, predicted_values)\n",
    "round(mae, 3) #prints 0.063"
   ]
  },
  {
   "cell_type": "markdown",
   "id": "83e78514",
   "metadata": {},
   "source": [
    "● Residual Sum of Squares (RSS) "
   ]
  },
  {
   "cell_type": "code",
   "execution_count": 8,
   "id": "54946775",
   "metadata": {},
   "outputs": [
    {
     "data": {
      "text/plain": [
       "1.823"
      ]
     },
     "execution_count": 8,
     "metadata": {},
     "output_type": "execute_result"
    }
   ],
   "source": [
    "import numpy as np\n",
    "rss = np.sum(np.square(y_test - predicted_values))\n",
    "round(rss, 3) #prints 1.823"
   ]
  },
  {
   "cell_type": "markdown",
   "id": "d55f43a2",
   "metadata": {},
   "source": [
    "● Root Mean Square Error (RMSE)"
   ]
  },
  {
   "cell_type": "code",
   "execution_count": 9,
   "id": "6eeb2ba9",
   "metadata": {},
   "outputs": [
    {
     "data": {
      "text/plain": [
       "0.089"
      ]
     },
     "execution_count": 9,
     "metadata": {},
     "output_type": "execute_result"
    }
   ],
   "source": [
    "from sklearn.metrics import mean_squared_error\n",
    "rmse = np.sqrt(mean_squared_error(y_test, predicted_values))\n",
    "round(rmse, 3) #prints 0.089"
   ]
  },
  {
   "cell_type": "markdown",
   "id": "97728ada",
   "metadata": {},
   "source": [
    "● R-Squared "
   ]
  },
  {
   "cell_type": "code",
   "execution_count": 10,
   "id": "457c69f7",
   "metadata": {},
   "outputs": [
    {
     "data": {
      "text/plain": [
       "0.893"
      ]
     },
     "execution_count": 10,
     "metadata": {},
     "output_type": "execute_result"
    }
   ],
   "source": [
    "from sklearn.metrics import r2_score\n",
    "r2_score = r2_score(y_test, predicted_values)\n",
    "round(r2_score, 3) #prints 0.893"
   ]
  },
  {
   "cell_type": "markdown",
   "id": "7abe1af3",
   "metadata": {},
   "source": [
    "<div class=\"alert alert-block alert-success\">\n",
    "<b>Lesson (3)</b>\n",
    "</div>"
   ]
  },
  {
   "cell_type": "markdown",
   "id": "0b43487e",
   "metadata": {},
   "source": [
    "● Ridge Regression"
   ]
  },
  {
   "cell_type": "code",
   "execution_count": 20,
   "id": "ab7b9f97",
   "metadata": {},
   "outputs": [
    {
     "data": {
      "text/plain": [
       "Ridge(alpha=0.5)"
      ]
     },
     "execution_count": 20,
     "metadata": {},
     "output_type": "execute_result"
    }
   ],
   "source": [
    "from sklearn.linear_model import Ridge\n",
    "ridge_reg = Ridge(alpha=0.5)\n",
    "ridge_reg.fit(x_train, y_train)"
   ]
  },
  {
   "cell_type": "markdown",
   "id": "56d1ec38",
   "metadata": {},
   "source": [
    "● Feature Selection and Lasso Regression"
   ]
  },
  {
   "cell_type": "code",
   "execution_count": 21,
   "id": "87d3943a",
   "metadata": {},
   "outputs": [
    {
     "data": {
      "text/plain": [
       "Lasso(alpha=0.001)"
      ]
     },
     "execution_count": 21,
     "metadata": {},
     "output_type": "execute_result"
    }
   ],
   "source": [
    "from sklearn.linear_model import Lasso\n",
    "lasso_reg = Lasso(alpha=0.001)\n",
    "lasso_reg.fit(x_train, y_train)"
   ]
  },
  {
   "cell_type": "code",
   "execution_count": 23,
   "id": "6d628873",
   "metadata": {},
   "outputs": [],
   "source": [
    "#comparing the effects of regularisation\n",
    "\n",
    "def get_weights_df(model, feat, col_name):\n",
    "    #this function returns the weight of every feature\n",
    "    weights = pd.Series(model.coef_, feat.columns).sort_values()\n",
    "    weights_df = pd.DataFrame(weights).reset_index()\n",
    "    weights_df.columns = ['Features', col_name]\n",
    "    weights_df[col_name].round(3)\n",
    "    \n",
    "    return weights_df\n",
    "\n",
    "\n",
    "linear_model_weights = get_weights_df(linear_model, x_train, 'Linear_Model_Weight')\n",
    "ridge_weights_df = get_weights_df(ridge_reg, x_train, 'Ridge_Weight')\n",
    "lasso_weights_df = get_weights_df(lasso_reg, x_train, 'Lasso_weight')\n",
    "final_weights = pd.merge(linear_model_weights, ridge_weights_df, on='Features')\n",
    "final_weights = pd.merge(final_weights, lasso_weights_df, on='Features')"
   ]
  },
  {
   "cell_type": "code",
   "execution_count": null,
   "id": "d19b56b0",
   "metadata": {},
   "outputs": [],
   "source": [
    "# rename cols\n",
    "columns_names = {'T1' :'Temperature in kitchen area',\n",
    "                 'RH_1': 'Humidity in kitchen area',\n",
    "                 'T2': 'Temperature in living room area',\n",
    "                 'RH_2': 'Humidity in living room area',\n",
    "                 'T3': 'Temperature in laundry room area',\n",
    "                 'RH_3': 'Humidity in laundry room area',\n",
    "                 'T4':'Temperature in office room',\n",
    "                 'RH_4': 'Humidity in office room',\n",
    "                 'T5': 'Temperature in bathroom',\n",
    "                 'RH_5':'Humidity in bathroom',\n",
    "                 'T6': 'Temperature outside the building (north side)',\n",
    "                 'RH_6': 'Humidity outside the building (north side)',\n",
    "                 'T7': 'Temperature in ironing room ',\n",
    "                 'RH_7': 'Humidity in ironing room',\n",
    "                 'T8': 'Temperature in teenager room 2',\n",
    "                 'RH_8': 'Humidity in teenager room 2',\n",
    "                 'T9': 'Temperature in parents room',\n",
    "                 'RH_9': 'Humidity in parents room',\n",
    "                 'To': 'Temperature outside', \n",
    "                 'RH_out': 'Humidity outside' ,\n",
    "                 'rv1': 'Random variable 1',\n",
    "                 'rv2': 'Random variable 2'}\n",
    "\n",
    "data = data.rename(columns=columns_names)\n",
    "# to print the head of data\n",
    "data.head(5)"
   ]
  },
  {
   "cell_type": "code",
   "execution_count": null,
   "id": "07b30358",
   "metadata": {},
   "outputs": [],
   "source": [
    "Question 12\n",
    "From the dataset, fit a linear model on the relationship between the temperature in the living room in Celsius (x = T2) and the temperature outside the building (y = T6). What is the R^2 value in two d.p.?\n",
    "\n",
    "\n",
    "\n",
    "\n",
    "\n",
    "Question 13\n",
    "Normalize the dataset using the MinMaxScaler after removing the following columns: [“date”, “lights”]. The target variable is “Appliances”. Use a 70-30 train-test set split with a random state of 42 (for reproducibility). Run a multiple linear regression using the training set and evaluate your model on the test set. Answer the following questions:\n",
    "\n",
    "What is the Mean Absolute Error (in two decimal places)?\n",
    "\n",
    "\n",
    "\n",
    "\n",
    "\n",
    "Question 14\n",
    "What is the Residual Sum of Squares (in two decimal places)?\n",
    "\n",
    "\n",
    "\n",
    "\n",
    "\n",
    "Question 15\n",
    "What is the Root Mean Squared Error (in three decimal places)?\n",
    "\n",
    "\n",
    "\n",
    "\n",
    "\n",
    "Question 16\n",
    "What is the Coefficient of Determination (in two decimal places)?\n",
    "\n",
    "\n",
    "\n",
    "\n",
    "\n",
    "Question 17\n",
    "Obtain the feature weights from your linear model above. Which features have the lowest and highest weights respectively?\n",
    "\n",
    "\n",
    "\n",
    "\n",
    "\n",
    "Question 18\n",
    "Train a ridge regression model with an alpha value of 0.4. Is there any change to the root mean squared error (RMSE) when evaluated on the test set?\n",
    "\n",
    "\n",
    "\n",
    "Question 19\n",
    "Train a lasso regression model with an alpha value of 0.001 and obtain the new feature weights with it. How many of the features have non-zero feature weights?\n",
    "\n",
    "\n",
    "\n",
    "\n",
    "\n",
    "Question 20\n",
    "What is the new RMSE with the lasso regression? (Answer should be "
   ]
  }
 ],
 "metadata": {
  "kernelspec": {
   "display_name": "Python 3 (ipykernel)",
   "language": "python",
   "name": "python3"
  },
  "language_info": {
   "codemirror_mode": {
    "name": "ipython",
    "version": 3
   },
   "file_extension": ".py",
   "mimetype": "text/x-python",
   "name": "python",
   "nbconvert_exporter": "python",
   "pygments_lexer": "ipython3",
   "version": "3.8.10"
  }
 },
 "nbformat": 4,
 "nbformat_minor": 5
}
